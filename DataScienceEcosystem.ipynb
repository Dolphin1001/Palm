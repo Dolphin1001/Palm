{
 "cells": [
  {
   "cell_type": "markdown",
   "id": "3756f409-e44a-4305-9b35-1fc0967511e1",
   "metadata": {},
   "source": [
    "# Data Science Tools and Ecosystem"
   ]
  },
  {
   "cell_type": "markdown",
   "id": "8a4f13ec-736a-41b9-a704-43e42957bd9b",
   "metadata": {},
   "source": [
    "# **Objectives:**"
   ]
  },
  {
   "cell_type": "markdown",
   "id": "b3be07f7-f3e0-47ec-9f63-205f3e1904aa",
   "metadata": {},
   "source": [
    "# - Data Science Tools\n",
    "# - Libraries\n",
    "# - Arithmetic\n",
    "# - Conversion from Minutes to Hours"
   ]
  },
  {
   "cell_type": "markdown",
   "id": "1dc6d880-a966-4a9a-8bba-6847c6f68940",
   "metadata": {},
   "source": [
    "# Popular Languages used by Data Scientists:"
   ]
  },
  {
   "cell_type": "markdown",
   "id": "c0e1ea19-e8c0-4fdf-8e0b-202426aa28d8",
   "metadata": {},
   "source": [
    "1. Python\n",
    "2. R\n",
    "3. Julia"
   ]
  },
  {
   "cell_type": "markdown",
   "id": "edf21676-67a0-4588-bee3-e29cce9b9d9b",
   "metadata": {},
   "source": [
    "# Commonly used Libraries by Data Scientists:"
   ]
  },
  {
   "cell_type": "markdown",
   "id": "0125f2d7-f723-4294-b22a-d2b84b54498f",
   "metadata": {},
   "source": [
    "1. Pandas\n",
    "2. Numpy\n",
    "3. TensorFlow"
   ]
  },
  {
   "cell_type": "markdown",
   "id": "dc623fb2-f019-47d6-8bff-926465315daf",
   "metadata": {},
   "source": [
    "# Data Science Tools\n"
   ]
  },
  {
   "cell_type": "markdown",
   "id": "bc62d17d-561d-4667-816f-3bf9248da077",
   "metadata": {},
   "source": [
    "| Data Science Tools |\n",
    "|--------------------|\n",
    "|JupyterLab|\n",
    "|Anaconda|\n",
    "|GitHub|\n"
   ]
  },
  {
   "cell_type": "markdown",
   "id": "9ae665bb-e646-4a5c-b74e-42d6c2539e9d",
   "metadata": {},
   "source": [
    "### A few examples of evaluating arithmetic expressions in Python:"
   ]
  },
  {
   "cell_type": "markdown",
   "id": "c377f4ca-7a7b-47d8-a779-0f83a9493cc7",
   "metadata": {},
   "source": [
    "### 3+5\n",
    "### 3*5\n",
    "### 3/5\n",
    "### 3-5\n"
   ]
  },
  {
   "cell_type": "markdown",
   "id": "2e5e84d2-2709-4b23-aa60-0516208d10ae",
   "metadata": {},
   "source": [
    "# This a simple arithmetic expression to mutiply then add integers:"
   ]
  },
  {
   "cell_type": "code",
   "execution_count": 24,
   "id": "3fffa02f-994a-40ff-9d5d-e2fcde703341",
   "metadata": {},
   "outputs": [
    {
     "data": {
      "text/plain": [
       "17"
      ]
     },
     "execution_count": 24,
     "metadata": {},
     "output_type": "execute_result"
    }
   ],
   "source": [
    "(3*4)+5"
   ]
  },
  {
   "cell_type": "markdown",
   "id": "2cca1b8e-f31a-4fc3-bda4-d11125978d08",
   "metadata": {},
   "source": [
    "# This will convert 200 minutes to hours by diving by 60:\n",
    "\n"
   ]
  },
  {
   "cell_type": "code",
   "execution_count": 34,
   "id": "e921a0a8-68c9-4650-aa12-b44879cfc55f",
   "metadata": {},
   "outputs": [
    {
     "data": {
      "text/plain": [
       "3.3333333333333335"
      ]
     },
     "execution_count": 34,
     "metadata": {},
     "output_type": "execute_result"
    }
   ],
   "source": [
    "200/60"
   ]
  },
  {
   "cell_type": "markdown",
   "id": "fc48e64e-8494-4339-acdf-edba37be86d3",
   "metadata": {},
   "source": [
    "## Author\n",
    "## Des'"
   ]
  },
  {
   "cell_type": "code",
   "execution_count": null,
   "id": "7d2c77f1-e636-4f59-87dd-c87422033a6f",
   "metadata": {},
   "outputs": [],
   "source": []
  }
 ],
 "metadata": {
  "kernelspec": {
   "display_name": "Python 3 (ipykernel)",
   "language": "python",
   "name": "python3"
  },
  "language_info": {
   "codemirror_mode": {
    "name": "ipython",
    "version": 3
   },
   "file_extension": ".py",
   "mimetype": "text/x-python",
   "name": "python",
   "nbconvert_exporter": "python",
   "pygments_lexer": "ipython3",
   "version": "3.12.4"
  }
 },
 "nbformat": 4,
 "nbformat_minor": 5
}
